{
  "nbformat": 4,
  "nbformat_minor": 0,
  "metadata": {
    "colab": {
      "name": "Multi lingual model.ipynb",
      "provenance": [],
      "collapsed_sections": []
    },
    "kernelspec": {
      "name": "python3",
      "display_name": "Python 3"
    }
  },
  "cells": [
    {
      "cell_type": "code",
      "metadata": {
        "id": "Dn90nNdyQmfQ",
        "colab_type": "code",
        "colab": {}
      },
      "source": [
        "!pip3 install tensorflow_text>=2.0.0rc0"
      ],
      "execution_count": 0,
      "outputs": []
    },
    {
      "cell_type": "code",
      "metadata": {
        "id": "qj3nD-ThQq0c",
        "colab_type": "code",
        "colab": {}
      },
      "source": [
        "import tensorflow_hub as hub\n",
        "import numpy as np\n",
        "import tensorflow_text\n",
        "\n",
        "# Some texts of different lengths.\n",
        "english_sentences = [\"dog\", \"Puppies are nice.\", \"I enjoy taking long walks along the beach with my dog.\"]\n",
        "italian_sentences = [\"cane\", \"I cuccioli sono carini.\", \"Mi piace fare lunghe passeggiate lungo la spiaggia con il mio cane.\"]\n",
        "japanese_sentences = [\"犬\", \"子犬はいいです\", \"私は犬と一緒にビーチを散歩するのが好きです\"]\n",
        "\n",
        "embed = hub.load(\"https://tfhub.dev/google/universal-sentence-encoder-multilingual-large/3\")\n",
        "\n",
        "# Compute embeddings.\n",
        "en_result = embed(english_sentences)\n",
        "it_result = embed(italian_sentences)\n",
        "ja_result = embed(japanese_sentences)\n",
        "\n",
        "# Compute similarity matrix. Higher score indicates greater similarity.\n",
        "similarity_matrix_it = np.inner(en_result, it_result)\n",
        "similarity_matrix_ja = np.inner(en_result, ja_result)\n",
        "# np.inner is just Sum of products for the two vectors"
      ],
      "execution_count": 0,
      "outputs": []
    },
    {
      "cell_type": "code",
      "metadata": {
        "id": "_bjinhkzQ98P",
        "colab_type": "code",
        "outputId": "4e1e17e9-c9c2-4ca0-cda6-7e78b41b0984",
        "colab": {
          "base_uri": "https://localhost:8080/",
          "height": 68
        }
      },
      "source": [
        "print(similarity_matrix_it"
      ],
      "execution_count": 0,
      "outputs": [
        {
          "output_type": "execute_result",
          "data": {
            "text/plain": [
              "array([[0.96964586, 0.27347845, 0.25536817],\n",
              "       [0.3772605 , 0.8931676 , 0.28806686],\n",
              "       [0.24611363, 0.23792985, 0.93521523]], dtype=float32)"
            ]
          },
          "metadata": {
            "tags": []
          },
          "execution_count": 3
        }
      ]
    },
    {
      "cell_type": "code",
      "metadata": {
        "id": "izwilLdsRRIC",
        "colab_type": "code",
        "outputId": "240e3e53-e87e-463a-9350-2d3580b8347a",
        "colab": {
          "base_uri": "https://localhost:8080/",
          "height": 136
        }
      },
      "source": [
        "en_result"
      ],
      "execution_count": 0,
      "outputs": [
        {
          "output_type": "execute_result",
          "data": {
            "text/plain": [
              "<tf.Tensor: shape=(3, 512), dtype=float32, numpy=\n",
              "array([[-0.00525211, -0.03831199, -0.00922014, ...,  0.0217905 ,\n",
              "         0.0628018 , -0.01622536],\n",
              "       [-0.02267582, -0.06907186,  0.01550867, ...,  0.08762302,\n",
              "        -0.00076925, -0.05410822],\n",
              "       [ 0.01908831,  0.00955219, -0.04741291, ...,  0.03206479,\n",
              "         0.03661666,  0.00331058]], dtype=float32)>"
            ]
          },
          "metadata": {
            "tags": []
          },
          "execution_count": 4
        }
      ]
    },
    {
      "cell_type": "code",
      "metadata": {
        "id": "IYEcwEi3RqzD",
        "colab_type": "code",
        "outputId": "85fa8cb5-d32a-42ae-fb0d-99b2d3c0a4b8",
        "colab": {
          "base_uri": "https://localhost:8080/",
          "height": 136
        }
      },
      "source": [
        "it_result"
      ],
      "execution_count": 0,
      "outputs": [
        {
          "output_type": "execute_result",
          "data": {
            "text/plain": [
              "<tf.Tensor: shape=(3, 512), dtype=float32, numpy=\n",
              "array([[ 0.01247474, -0.04704872, -0.0116076 , ...,  0.00828648,\n",
              "         0.05655242, -0.01926563],\n",
              "       [-0.00054214, -0.05353344, -0.00509426, ...,  0.0758197 ,\n",
              "        -0.0206784 , -0.01833749],\n",
              "       [ 0.02309686,  0.03299273, -0.0450268 , ...,  0.0260329 ,\n",
              "         0.03097188, -0.00283149]], dtype=float32)>"
            ]
          },
          "metadata": {
            "tags": []
          },
          "execution_count": 5
        }
      ]
    },
    {
      "cell_type": "code",
      "metadata": {
        "id": "f6hIGw56RsrX",
        "colab_type": "code",
        "colab": {
          "base_uri": "https://localhost:8080/",
          "height": 51
        },
        "outputId": "a3f8c3ee-da06-4968-aed1-1c93d9505c37"
      },
      "source": [
        ""
      ],
      "execution_count": 6,
      "outputs": [
        {
          "output_type": "stream",
          "text": [
            "fatal: not a git repository (or any of the parent directories): .git\n",
            "fatal: not a git repository (or any of the parent directories): .git\n"
          ],
          "name": "stdout"
        }
      ]
    },
    {
      "cell_type": "code",
      "metadata": {
        "id": "yCkuget0W3TN",
        "colab_type": "code",
        "colab": {}
      },
      "source": [
        ""
      ],
      "execution_count": 0,
      "outputs": []
    }
  ]
}